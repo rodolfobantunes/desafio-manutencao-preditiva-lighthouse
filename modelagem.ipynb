{
 "cells": [
  {
   "cell_type": "code",
   "execution_count": 54,
   "metadata": {},
   "outputs": [],
   "source": [
    "import pandas as pd\n",
    "import matplotlib.pyplot as plt\n",
    "from sklearn.tree import DecisionTreeClassifier\n",
    "from sklearn.model_selection import train_test_split\n",
    "import seaborn as sns"
   ]
  },
  {
   "cell_type": "code",
   "execution_count": 55,
   "metadata": {},
   "outputs": [],
   "source": [
    "dados_treino = \".\\desafio_manutencao_preditiva_treino.csv\"\n",
    "dados_teste = \".\\desafio_manutencao_preditiva_teste.csv\"\n",
    "\n",
    "db_train = pd.read_csv(dados_treino)\n",
    "db_teste = pd.read_csv(dados_teste)"
   ]
  },
  {
   "attachments": {},
   "cell_type": "markdown",
   "metadata": {},
   "source": [
    "Temos em mãos um problema de classificação, já que se trata de prever uma variável categórica. Estou escolhendo utilizar o algorítmo de aprendizado supervisionado de classificação DecisionTree."
   ]
  },
  {
   "attachments": {},
   "cell_type": "markdown",
   "metadata": {},
   "source": [
    "Definimos então a variável y, que contém as classificações que desejamos, assim como as variáveis (feats) que usaremos na modelagem. \n",
    "\n",
    "Como as duas primeiras colunas do banco de dados consistia de chaves de identificação para cada máquina, as ignoraremos.\n",
    "Já a variável 'type' se trata de uma variável categórica, portanto não a utilizaremos na modelagem.\n"
   ]
  },
  {
   "cell_type": "code",
   "execution_count": 56,
   "metadata": {},
   "outputs": [],
   "source": [
    "target = 'failure_type'\n",
    "feats = ['air_temperature_k','process_temperature_k', 'rotational_speed_rpm', 'torque_nm','tool_wear_min']"
   ]
  },
  {
   "cell_type": "code",
   "execution_count": 57,
   "metadata": {},
   "outputs": [],
   "source": [
    "X_train = db_train[feats]\n",
    "X_test = db_teste[feats]\n",
    "y_train = db_train[target]\n"
   ]
  },
  {
   "cell_type": "code",
   "execution_count": 58,
   "metadata": {},
   "outputs": [],
   "source": [
    "tree_classifier = DecisionTreeClassifier()\n",
    "\n",
    "#X_train, X_test, y_train, y_test = train_test_split(feats,target)"
   ]
  },
  {
   "cell_type": "code",
   "execution_count": 65,
   "metadata": {},
   "outputs": [],
   "source": [
    "tree_classifier.fit(X_train,y_train)\n",
    "y = tree_classifier.predict(X_test)\n"
   ]
  },
  {
   "cell_type": "code",
   "execution_count": 67,
   "metadata": {},
   "outputs": [],
   "source": []
  },
  {
   "cell_type": "code",
   "execution_count": 74,
   "metadata": {},
   "outputs": [],
   "source": [
    "db_teste['failure_type'] = y\n",
    "\n",
    "csv = pd.DataFrame(y).to_csv('predicted.csv')\n"
   ]
  },
  {
   "cell_type": "code",
   "execution_count": null,
   "metadata": {},
   "outputs": [],
   "source": []
  }
 ],
 "metadata": {
  "kernelspec": {
   "display_name": "Python 3",
   "language": "python",
   "name": "python3"
  },
  "language_info": {
   "codemirror_mode": {
    "name": "ipython",
    "version": 3
   },
   "file_extension": ".py",
   "mimetype": "text/x-python",
   "name": "python",
   "nbconvert_exporter": "python",
   "pygments_lexer": "ipython3",
   "version": "3.11.1"
  },
  "orig_nbformat": 4,
  "vscode": {
   "interpreter": {
    "hash": "089be193ec563c9ccff647034ce5b299d44f25d3ff845b57c6654af5a2614700"
   }
  }
 },
 "nbformat": 4,
 "nbformat_minor": 2
}
